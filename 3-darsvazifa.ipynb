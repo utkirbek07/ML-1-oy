{
 "cells": [
  {
   "cell_type": "code",
   "execution_count": 1,
   "metadata": {},
   "outputs": [
    {
     "ename": "ValueError",
     "evalue": "invalid literal for int() with base 10: ''",
     "output_type": "error",
     "traceback": [
      "\u001b[31m---------------------------------------------------------------------------\u001b[39m",
      "\u001b[31mValueError\u001b[39m                                Traceback (most recent call last)",
      "\u001b[36mCell\u001b[39m\u001b[36m \u001b[39m\u001b[32mIn[4]\u001b[39m\u001b[32m, line 3\u001b[39m\n\u001b[32m      1\u001b[39m \u001b[38;5;66;03m#Berilgan son 5 ga bo'linsa bg abo'linadigan son aks xolda xato deb ekranga chiqaring\u001b[39;00m\n\u001b[32m----> \u001b[39m\u001b[32m3\u001b[39m number=\u001b[38;5;28;43mint\u001b[39;49m\u001b[43m(\u001b[49m\u001b[38;5;28;43minput\u001b[39;49m\u001b[43m(\u001b[49m\u001b[33;43m'\u001b[39;49m\u001b[33;43mRaqamni kiriting:\u001b[39;49m\u001b[33;43m'\u001b[39;49m\u001b[43m)\u001b[49m\u001b[43m)\u001b[49m\n\u001b[32m      4\u001b[39m \u001b[38;5;28;01mif\u001b[39;00m number%\u001b[32m5\u001b[39m==\u001b[32m0\u001b[39m: \n\u001b[32m      5\u001b[39m     \u001b[38;5;28mprint\u001b[39m(\u001b[33m'\u001b[39m\u001b[33mSon 5ga bolinadi\u001b[39m\u001b[33m'\u001b[39m)\n",
      "\u001b[31mValueError\u001b[39m: invalid literal for int() with base 10: ''"
     ]
    }
   ],
   "source": [
    "#Berilgan son 5 ga bo'linsa bg abo'linadigan son aks xolda xato deb ekranga chiqaring\n",
    "\n",
    "number=int(input('Raqamni kiriting:'))\n",
    "if number%5==0: \n",
    "    print('Son 5ga bolinadi')\n",
    "else :\n",
    "    print('Xato') "
   ]
  },
  {
   "cell_type": "code",
   "execution_count": null,
   "metadata": {},
   "outputs": [],
   "source": [
    "# Berilgan son 5 ga bolinsa va musbat bolsa yaxshi aks xolda yomon degan sozni ekranga chiqaring\n",
    "son=int(input('sonni kiriting: '))\n",
    "if son%5==0 and son>0 :\n",
    "    print('Yaxshi')\n",
    "else : \n",
    "    print('yomon')"
   ]
  }
 ],
 "metadata": {
  "kernelspec": {
   "display_name": "Python 3",
   "language": "python",
   "name": "python3"
  },
  "language_info": {
   "codemirror_mode": {
    "name": "ipython",
    "version": 3
   },
   "file_extension": ".py",
   "mimetype": "text/x-python",
   "name": "python",
   "nbconvert_exporter": "python",
   "pygments_lexer": "ipython3",
   "version": "3.11.9"
  }
 },
 "nbformat": 4,
 "nbformat_minor": 2
}
